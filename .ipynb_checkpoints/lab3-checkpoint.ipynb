{
 "cells": [
  {
   "cell_type": "markdown",
   "metadata": {
    "id": "2U5gjTQc669x"
   },
   "source": [
    "# Lab exercise #3: ELBO and GPLVMs\n",
    "\n",
    "CS-E4075 2021"
   ]
  },
  {
   "cell_type": "markdown",
   "metadata": {
    "id": "mUv6IOU_66-L"
   },
   "source": [
    "# Task 1: Variational inference for Gaussian Process Classification (worth 2 points)\n",
    "\n",
    "## Learning objectives\n",
    "\n",
    "After completing this lab exercise, you should be able to:\n",
    "\n",
    "- Implement Variational inference for GP classification\n",
    "\n",
    "\n",
    "**/!\\ Important Notes /!\\**\n",
    "* In this notebook, we **won't** be implementing sparse GPs (the approximation using inducing points). However, completing this notebook will give you all the tools and building blocks to implement them.\n",
    "* For speed purposes, it is highly recommended to use an automatic differentiation framework such as tensorflow or pytorch. (optimization using numpy/scipy also works, but will be much slower!). Examples and hints in this notebook are using tensorflow but can be adapted to run in alternative frameworks.\n",
    "* All exercises must be solved using only basic mathematical operations (exp, erf, ...) and linear algebra routines (solve, matrix-vector products, ...)\n",
    "\n"
   ]
  },
  {
   "cell_type": "markdown",
   "metadata": {
    "id": "C37jb-UxOKue"
   },
   "source": [
    "**A mini tutorial on automatic differentiation**\n",
    "\n",
    "When using an automatic differentiation framework to optimize a function $f: \\theta \\to f(\\theta)$, the variable $\\theta$ and/or the operations mapping from $\\theta$ to $f(\\theta)$ must be defined using operators from the framework.\n",
    "\n",
    "For example to optimize $e^{\\theta}+e^{-\\theta}$ with respect to $\\theta$ with tensorflow, you need to proceed as follows:\n"
   ]
  },
  {
   "cell_type": "code",
   "execution_count": 1,
   "metadata": {
    "colab": {
     "base_uri": "https://localhost:8080/"
    },
    "id": "6QFiiuNGOL3z",
    "outputId": "d5af91e5-dbd5-436b-fbbe-7de974d238ff"
   },
   "outputs": [
    {
     "name": "stdout",
     "output_type": "stream",
     "text": [
      "0 <tf.Variable 'Variable:0' shape=() dtype=float64, numpy=0.976495976127124>\n",
      "100 <tf.Variable 'Variable:0' shape=() dtype=float64, numpy=0.11997260765615987>\n",
      "200 <tf.Variable 'Variable:0' shape=() dtype=float64, numpy=0.01589141680262445>\n",
      "300 <tf.Variable 'Variable:0' shape=() dtype=float64, numpy=0.00210746772964796>\n",
      "400 <tf.Variable 'Variable:0' shape=() dtype=float64, numpy=0.0002794913296214945>\n",
      "500 <tf.Variable 'Variable:0' shape=() dtype=float64, numpy=3.7066015766512994e-05>\n",
      "600 <tf.Variable 'Variable:0' shape=() dtype=float64, numpy=4.91567854916927e-06>\n",
      "700 <tf.Variable 'Variable:0' shape=() dtype=float64, numpy=6.519151061083718e-07>\n",
      "800 <tf.Variable 'Variable:0' shape=() dtype=float64, numpy=8.645669185832985e-08>\n",
      "900 <tf.Variable 'Variable:0' shape=() dtype=float64, numpy=1.1465848082505852e-08>\n"
     ]
    }
   ],
   "source": [
    "import tensorflow as tf\n",
    "\n",
    "# define the theta variable\n",
    "theta = tf.Variable(1.0, dtype=tf.float64)\n",
    "\n",
    "# define the function\n",
    "f = lambda x: tf.exp(x) + tf.exp(-x) # note the use of the tf.exp operation (not np.exp)\n",
    "\n",
    "# run the optimization\n",
    "for t in range(1000):\n",
    "    # at each step, compute the gradients\n",
    "    with tf.GradientTape() as tape:\n",
    "        tape.watch(theta)\n",
    "        loss = f(theta)\n",
    "    \n",
    "    gradient = tape.gradient(loss, theta)\n",
    "    \n",
    "    # apply the variable update (gradient descent)\n",
    "    theta.assign(theta - 0.01*gradient)\n",
    "    \n",
    "    if t % 100 == 0:\n",
    "        print(t, theta)"
   ]
  },
  {
   "cell_type": "code",
   "execution_count": 2,
   "metadata": {
    "id": "FBLZZULA66-O"
   },
   "outputs": [],
   "source": [
    "%matplotlib inline\n",
    "import numpy as np\n",
    "import math\n",
    "import matplotlib.pyplot as plt"
   ]
  },
  {
   "cell_type": "markdown",
   "metadata": {
    "id": "HB5AYW3W66-V"
   },
   "source": [
    "We are interested in the problem of Gaussian Process classification. \n",
    "\n",
    "We have some data $\\mathcal{D} = \\left\\lbrace {\\bf x}_n, y_n \\right\\rbrace_{n=1}^N$, with $y_n \\in \\{-1,1\\}$.\n",
    "\n",
    "We want to perform inference in the following generative model\n",
    "$$ f \\sim GP(0, k)$$\n",
    "$$ p(y_n=1|{\\bf x}_n) = \\phi(y_n * f_n),$$\n",
    "with $\\phi$ the normal cumulative distribution function $\\phi(x)=\\int_{-\\infty}^x {\\cal N}(u; 0,1)du$.\n",
    "\n",
    "We will here use a RBF kernel, with two parameters: lengthscale $l$ and variance $\\sigma^2$.\n",
    "\n",
    "\n",
    "The posterior is $p({\\bf f}|{\\bf y}) \\propto p({\\bf y}|{\\bf f})p({\\bf f})$ is intractable, hence we resort to an approximate inference scheme called variational inference.\n",
    "\n",
    "This turns inference into optimization. We optimize the distance $d(q) = KL[q({\\bf f})||p({\\bf f}|{\\bf y})] \\geq 0$, with respect to a distribution $q({\\bf f})$\n",
    "\n",
    "We parameterize $q$ through the mean vector $m$ and the Cholesky factor of the covariance $L$: i.e. $q({\\bf f})={\\cal N}({\\bf f}|m, S=LL^T)$\n",
    "\n",
    "In practice we optimize the ELBO:\n",
    "$${\\cal L}(q) = \\log p({\\bf y})-d(q) = \n",
    "\\underbrace{\\mathbb{E}_q \\log p({\\bf y}|{\\bf f})}_{VE} \n",
    "- \\underbrace{KL(q({\\bf f})||p({\\bf f}))}_{KL}$$\n",
    "\n",
    "We split the ELBO into two terms\n",
    "* variational expectations (VE)\n",
    "* Kullback Leibler (KL)\n"
   ]
  },
  {
   "cell_type": "markdown",
   "metadata": {
    "id": "s6XskkCP66-X"
   },
   "source": [
    "### Task 1a: KL divergence\n",
    "\n",
    "For a prior $p({\\bf f})={\\cal N}({\\bf f}|0,K)$ and a variational distribution $q({\\bf f})={\\cal N}({\\bf f}|m, S=LL^T)$, compute the KL divergence $KL(q({\\bf f})||p({\\bf f}))$\n",
    "\n",
    "\n",
    "You can use the formula :\n",
    "$$\n",
    "\\begin{align*}\n",
    "&KL\\left(\\mathcal{N}(\\mu_0,\\Sigma_0) \\parallel \\mathcal{N}(\\mu_1,\\Sigma_1)\\right) \\\\ \n",
    " &= \\frac{1}{2}\\left(\n",
    "    \\operatorname{tr}\\left(\\Sigma_1^{-1}\\Sigma_0\\right) +\n",
    "    \\left(\\mu_1 - \\mu_0\\right)^\\mathsf{T} \\Sigma_1^{-1}\\left(\\mu_1 - \\mu_0\\right) - k +\n",
    "    \\ln\\frac{|\\Sigma_1|}{|\\Sigma_0|}\n",
    "  \\right),\\; (source: wikipedia)\\\\\n",
    "  &= \\dots \\quad \\text{ (bonus : can you fill the gap?)}\\\\\n",
    "    &=\n",
    "  \\frac{1}{2}\\left(\n",
    "    \\sum_{ij} (L_1^{-1}L_0)^2_{ij} +\n",
    "    ||L_1^{-1}\\left(\\mu_1 - \\mu_0\\right)||^2 - k + 2\\sum_{i}\n",
    "    \\ln |L_{1,ii}|- \\ln|L_{0,ii}|\n",
    "  \\right).\n",
    "  \\end{align*}\n",
    "  $$\n",
    "\n",
    "**Note**: this needs to be adapted to the (mean,cholesky) parameterization of the multivariate Gaussian distributions.\n"
   ]
  },
  {
   "cell_type": "code",
   "execution_count": 3,
   "metadata": {
    "id": "sW7T2ux_66-Y"
   },
   "outputs": [],
   "source": [
    "def KL(m0, L0, m1, L1):\n",
    "    \"\"\" returns the KL divergence between N(m0, S0) and N(m1, S1)\n",
    "    \n",
    "    arguments:\n",
    "    m0, m1   -- N x 1, mean vector\n",
    "    L0, L1   -- N x N, Cholesky factor of a covariance matrix \n",
    "    returns a scalar\n",
    "    \"\"\"\n",
    "    \n",
    "    ###############################################\n",
    "    # ------- insert code here -------------------\n",
    "    k=m0.shape[0]\n",
    "    L1_inv=tf.linalg.inv(L1)\n",
    "    first_part=tf.reduce_sum(tf.linalg.matmul(L1_inv,L0)**2)\n",
    "    second_part=tf.norm(L1_inv@(m1-m0))**2\n",
    "    third_part=2*tf.reduce_sum(tf.math.log(tf.linalg.diag_part(L1))-tf.math.log(tf.linalg.diag_part(L0)))\n",
    "    KL=first_part+second_part+third_part-k\n",
    "    return 0.5*KL\n",
    "    ###############################################\n",
    "    \n"
   ]
  },
  {
   "cell_type": "markdown",
   "metadata": {
    "id": "33m5cg2UIl-F"
   },
   "source": [
    "Let's check that the KL is coded properly.\n",
    "\n",
    "For instance, noting $q_0(f) = N(f|0, I)$ and $q_1(f) = N(f|0, 2I)$, \n",
    "we should have:\n",
    "* $KL[q_0||q_0] = 0$\n",
    "* $KL[q_0||q_1] > 0$ \n",
    "\n"
   ]
  },
  {
   "cell_type": "code",
   "execution_count": 4,
   "metadata": {
    "id": "7tl6dFfAJQz5"
   },
   "outputs": [
    {
     "name": "stdout",
     "output_type": "stream",
     "text": [
      "tf.Tensor(0.0, shape=(), dtype=float64)\n",
      "tf.Tensor(0.9657359027997261, shape=(), dtype=float64)\n"
     ]
    }
   ],
   "source": [
    "K = 10\n",
    "m_0 = m_1 = np.zeros((K,1))\n",
    "L_0 = np.eye(K)\n",
    "L_1 = np.sqrt(2.) * np.eye(K)\n",
    "\n",
    "assert KL(m_0, L_0, m_0, L_0) == 0\n",
    "assert KL(m_0, L_0, m_1, L_1) >= 0\n",
    "\n",
    "print(KL(m_0, L_0, m_0, L_0))\n",
    "print(KL(m_0, L_0, m_1, L_1))"
   ]
  },
  {
   "cell_type": "markdown",
   "metadata": {
    "id": "w9zp6Q-W66-a"
   },
   "source": [
    "### Task 1b: Variational expectations\n",
    "\n",
    "To compute the variational expectations $\\mathbb{E}_{q(f_n)} \\log p(y_n|f_n)$, we first need to compute the marginal distribution $q(f_n)$ and then compute the expectation.\n"
   ]
  },
  {
   "cell_type": "code",
   "execution_count": 5,
   "metadata": {
    "id": "onU4NYnp66-b"
   },
   "outputs": [],
   "source": [
    "def q_marginals(m, L):\n",
    "    \"\"\" returns the vectors of marginal means and marginal variances\n",
    "    i.e, the means and variances of q(f_n)\n",
    "    \n",
    "    Hint: You may want to use the tf.reduce_sum\n",
    "    \n",
    "    arguments:\n",
    "    m   -- N x 1, mean vector\n",
    "    L   -- N x N, Cholesky factor of a covariance matrix \n",
    "    returns : 2 N x 1 vectors\n",
    "    \"\"\"\n",
    "    \n",
    "    ###############################################\n",
    "    # ------- insert code here -------------------\n",
    "    L2=tf.math.square(L)\n",
    "    return  m, tf.reduce_sum(L2,axis=1,keepdims=True)\n",
    "#     return m, tf.reduce_sum(tf.matmul(L, tf.transpose(L)), axis=1, keepdims=True)\n",
    "    ###############################################\n",
    "\n"
   ]
  },
  {
   "cell_type": "code",
   "execution_count": 6,
   "metadata": {
    "id": "qq0NMMtr66-d"
   },
   "outputs": [],
   "source": [
    "def phi(x):\n",
    "    \"\"\" Cumulative distribution function for the standard normal distribution \n",
    "    Hint: you may want to use the error function. (tf.math.erf if using tensorflow)\n",
    "\n",
    "    phi(x) = int_{-\\infty, x} N(u| 0, 1) du    \n",
    "    \"\"\"\n",
    "    ###############################################\n",
    "    # ------- insert code here -------------------\n",
    "    return 0.5*(1+tf.math.erf(x/math.sqrt(2)))\n",
    "    ###############################################\n",
    "    \n",
    "def classif_log_likelihood(f, y):\n",
    "    \"\"\" log p(y|f) for classification using the normal cdf \n",
    "        log p(y|f) = log phi(y * f)\n",
    "    \"\"\"\n",
    "    ###############################################\n",
    "    # ------- insert code here -------------------\n",
    "    return tf.math.log(phi(y*f))\n",
    "    ###############################################\n",
    "\n",
    "\n",
    "    \n",
    "# --------------------------------------\n",
    "# The next function is given to you.\n",
    "# It approximates E_q(f_n) log p(y_n|f_n) via Gaussian quadrature\n",
    "# see: https://en.wikipedia.org/wiki/Gauss%E2%80%93Hermite_quadrature\n",
    "# --------------------------------------\n",
    "def expected_log_likelihood(\n",
    "    means, covs, llh, y, n_gh=10):\n",
    "    \"\"\" returns the expected log likelihood terms\n",
    "    \n",
    "    E_q(f_n) log p(y_n|f_n)\n",
    "    \n",
    "    This is a quadrature approximation, \n",
    "    turning the integral into a sum.\n",
    "        \n",
    "    arguments:\n",
    "    means  -- N x 1, vector of means\n",
    "    covs  -- N x 1, vector of covariances \n",
    "    llh -- log likelihood function\n",
    "    y  -- N x 1, vector of observed labels \n",
    "    \"\"\"\n",
    "    z, dz = np.polynomial.hermite.hermgauss(n_gh)\n",
    "    weights = (dz / np.sqrt(np.pi)).reshape(1, -1) # 1 x n_gh \n",
    "    inputs = means + np.sqrt(2 * covs) * z.reshape(1, -1) # N x n_gh\n",
    "    llh_quad = weights * llh(inputs, y) # N x n_gh\n",
    "\n",
    "    # 'tf.reduce_sum' is tensorflow's summing function, \n",
    "    # replace if using another framework  \n",
    "    return tf.reduce_sum(llh_quad, axis=1) # N, "
   ]
  },
  {
   "cell_type": "markdown",
   "metadata": {
    "id": "JUCd3aeN66-e"
   },
   "source": [
    "### Task 1c: ELBO\n",
    "\n",
    "We are now ready to implement the ELBO as the difference between the variational expectations and the KL divergence:\n",
    "\n",
    "$${\\cal L}(q) = \n",
    "\\underbrace{\\mathbb{E}_q \\log p({\\bf y}|{\\bf f})}_{VE} \n",
    "- \\underbrace{KL(q({\\bf f})||p({\\bf f}))}_{KL}$$\n",
    "\n",
    "\n"
   ]
  },
  {
   "cell_type": "code",
   "execution_count": 7,
   "metadata": {
    "id": "D_XH9m0U66-e"
   },
   "outputs": [],
   "source": [
    "def elbo(m_p, L_p, m_q, L_q, y):\n",
    "    \"\"\" returns ELBO\n",
    "    L = \\sum_n E_q(f_n) log p(y_n|f_n)\n",
    "        + KL(q(f)||p(f))\n",
    "        \n",
    "    (See slides of lecture 4 for closed form solution)\n",
    "    \n",
    "    arguments:\n",
    "    L_p, L_q  -- N x N, Cholesky factors of the covariances of p and q\n",
    "    m_p, m_q -- N x 1, mean vector of p and q\n",
    "    returns: a scalar\n",
    "    \"\"\"\n",
    "    \n",
    "    ###############################################\n",
    "    # ------- insert code here -------------------\n",
    "    KL_part=KL(m_q, L_q, m_p, L_p)\n",
    "    means,covs=q_marginals(m_q,L_q)\n",
    "    VE_part=tf.reduce_sum(expected_log_likelihood(means,covs,classif_log_likelihood,y))\n",
    "    return VE_part-KL_part\n",
    "    ###############################################\n",
    "\n",
    "\n",
    "    \n",
    "    "
   ]
  },
  {
   "cell_type": "markdown",
   "metadata": {
    "id": "3fRRI2op66-f"
   },
   "source": [
    "### Task 1d: Inference as optimization\n",
    "\n",
    "We are now ready to optimize the ELBO.\n",
    "We will first load some data"
   ]
  },
  {
   "cell_type": "code",
   "execution_count": 8,
   "metadata": {
    "colab": {
     "base_uri": "https://localhost:8080/",
     "height": 324
    },
    "id": "jT-nKs_w66-g",
    "outputId": "e796e8c9-e51c-4b65-ae90-b37ae9729e5c"
   },
   "outputs": [
    {
     "data": {
      "image/png": "[encoded data removed]",
      "text/plain": [
       "<Figure size 432x288 with 1 Axes>"
      ]
     },
     "metadata": {
      "needs_background": "light"
     },
     "output_type": "display_data"
    }
   ],
   "source": [
    "# Loading the data\n",
    "\n",
    "import csv\n",
    "XY = []\n",
    "with open(\"banana.csv\") as csvfile:\n",
    "    reader = csv.reader(csvfile, quoting=csv.QUOTE_NONNUMERIC) # change contents to floats\n",
    "    for row in reader: # each row is a list\n",
    "        XY.append(row)\n",
    "XY = np.array(XY)\n",
    "\n",
    "# Here we select a subset of the data. (remember computations scales as N^3)\n",
    "N = 50\n",
    "X, Y = XY[:N,:-1],XY[:N,-1:]\n",
    "Y = (Y-1.5) * 2 # to be in {-1, 1}\n",
    "N = X.shape[0]\n",
    "\n",
    "# Plotting the data\n",
    "\n",
    "plt.scatter(X[:,0], X[:,1], c=Y)\n",
    "plt.xlabel('$x_1$', fontsize=15)\n",
    "plt.ylabel('$x_2$', fontsize=15)\n",
    "plt.title('Classification data', fontsize=20);"
   ]
  },
  {
   "cell_type": "markdown",
   "metadata": {
    "id": "tVmiRlQm66-g"
   },
   "source": [
    "#### Preparing prior statistics\n",
    "\n",
    "We need to compute the prior covariance $K_p = K_{\\bf ff}$ and its Cholesky factor $L_p = chol(K_{\\bf ff})$."
   ]
  },
  {
   "cell_type": "code",
   "execution_count": 9,
   "metadata": {
    "id": "IqSkvWnW66-h"
   },
   "outputs": [],
   "source": [
    "# kernel parameters\n",
    "l = 0.5\n",
    "s = 0.5 # the standart deviation\n",
    "\n",
    "### computing the kernel matrix K_ff\n",
    "\n",
    "###############################################\n",
    "# ------- insert code here -------------------\n",
    "def create_se_kernel(X1, X2, alpha=1, scale=1):\n",
    "    sqdist = tf.reshape(tf.math.reduce_sum(X1**2, axis=1),[-1,1]) + tf.reshape(tf.math.reduce_sum(X2**2, axis=1),[1,-1]) - 2*X1@tf.transpose(X2)\n",
    "    return alpha * tf.math.exp(-sqdist/(2*scale**2))\n",
    "\n",
    "\n",
    "K=create_se_kernel(X,X,s**2,l)\n",
    "###############################################\n",
    "\n",
    "### Computing m_p, L_p = cholesky(K_p).\n",
    "\n",
    "###############################################\n",
    "# ------- insert code here -------------------\n",
    "L_p=tf.linalg.cholesky(K)\n",
    "m_p=tf.zeros(N,dtype=tf.float64)\n",
    "###############################################"
   ]
  },
  {
   "cell_type": "markdown",
   "metadata": {
    "id": "qqktFNQO66-j"
   },
   "source": [
    "We initialize the variational distribution to $q({\\bf f})={\\cal N}({\\bf f};0, I)$,\n",
    "then optimize the ELBO using gradient based optimization.\n",
    "\n",
    "\n",
    "Gradient based optimization refers to optimization schemes where a function $f(\\theta)$ is optimized with respect to $\\theta$ by following the gradient $\\nabla_{\\theta} f(\\theta)$.\n",
    "For example gradient descent construct a sequence of values $\\theta_t$ following\n",
    "$$\\theta_{t+1 } = \\theta_t + \\eta \\nabla_{\\theta} f(\\theta)|_{\\theta=\\theta_t}$$\n",
    "where $\\eta$ is the learning rate.\n",
    "\n",
    "\n",
    "When using an automatic differentiation framework, one does not need to manually derive the gradient (hence the 'automatic'). Such frameworks include tensorflow, jax, pytorch (pick your favorite). These are widely used to optimize the loss function of neural network models in supervised learning."
   ]
  },
  {
   "cell_type": "code",
   "execution_count": 10,
   "metadata": {
    "colab": {
     "base_uri": "https://localhost:8080/"
    },
    "id": "K2VBthKh66-k",
    "outputId": "d308dca4-4994-4456-f592-d592d75717db"
   },
   "outputs": [
    {
     "name": "stdout",
     "output_type": "stream",
     "text": [
      "0 tf.Tensor(48165.86747541167, shape=(), dtype=float64)\n"
     ]
    },
    {
     "ename": "KeyboardInterrupt",
     "evalue": "",
     "output_type": "error",
     "traceback": [
      "\u001b[0;31m---------------------------------------------------------------------------\u001b[0m",
      "\u001b[0;31mKeyboardInterrupt\u001b[0m                         Traceback (most recent call last)",
      "\u001b[0;32m<ipython-input-10-bce9b55fe088>\u001b[0m in \u001b[0;36m<module>\u001b[0;34m\u001b[0m\n\u001b[1;32m     21\u001b[0m \u001b[0mloss_list\u001b[0m\u001b[0;34m=\u001b[0m\u001b[0;34m[\u001b[0m\u001b[0;34m]\u001b[0m\u001b[0;34m\u001b[0m\u001b[0;34m\u001b[0m\u001b[0m\n\u001b[1;32m     22\u001b[0m \u001b[0;32mfor\u001b[0m \u001b[0mt\u001b[0m \u001b[0;32min\u001b[0m \u001b[0mrange\u001b[0m\u001b[0;34m(\u001b[0m\u001b[0;36m5000\u001b[0m\u001b[0;34m)\u001b[0m\u001b[0;34m:\u001b[0m\u001b[0;34m\u001b[0m\u001b[0;34m\u001b[0m\u001b[0m\n\u001b[0;32m---> 23\u001b[0;31m     \u001b[0mloss_list\u001b[0m\u001b[0;34m.\u001b[0m\u001b[0mappend\u001b[0m\u001b[0;34m(\u001b[0m\u001b[0mtrain\u001b[0m\u001b[0;34m(\u001b[0m\u001b[0mopt\u001b[0m\u001b[0;34m,\u001b[0m \u001b[0mm_q\u001b[0m\u001b[0;34m,\u001b[0m \u001b[0mL_q\u001b[0m\u001b[0;34m)\u001b[0m\u001b[0;34m.\u001b[0m\u001b[0mnumpy\u001b[0m\u001b[0;34m(\u001b[0m\u001b[0;34m)\u001b[0m\u001b[0;34m)\u001b[0m\u001b[0;34m\u001b[0m\u001b[0;34m\u001b[0m\u001b[0m\n\u001b[0m\u001b[1;32m     24\u001b[0m     \u001b[0;32mif\u001b[0m \u001b[0mt\u001b[0m \u001b[0;34m%\u001b[0m \u001b[0;36m500\u001b[0m \u001b[0;34m==\u001b[0m \u001b[0;36m0\u001b[0m\u001b[0;34m:\u001b[0m\u001b[0;34m\u001b[0m\u001b[0;34m\u001b[0m\u001b[0m\n\u001b[1;32m     25\u001b[0m         \u001b[0mprint\u001b[0m\u001b[0;34m(\u001b[0m\u001b[0mt\u001b[0m\u001b[0;34m,\u001b[0m \u001b[0mloss\u001b[0m\u001b[0;34m(\u001b[0m\u001b[0mm_q\u001b[0m\u001b[0;34m,\u001b[0m \u001b[0mL_q\u001b[0m\u001b[0;34m)\u001b[0m\u001b[0;34m)\u001b[0m\u001b[0;34m\u001b[0m\u001b[0;34m\u001b[0m\u001b[0m\n",
      "\u001b[0;32m<ipython-input-10-bce9b55fe088>\u001b[0m in \u001b[0;36mtrain\u001b[0;34m(opt, m, L)\u001b[0m\n\u001b[1;32m     12\u001b[0m         \u001b[0mloss_\u001b[0m \u001b[0;34m=\u001b[0m \u001b[0;34m-\u001b[0m \u001b[0melbo\u001b[0m\u001b[0;34m(\u001b[0m\u001b[0mm_p\u001b[0m\u001b[0;34m,\u001b[0m \u001b[0mL_p\u001b[0m\u001b[0;34m,\u001b[0m \u001b[0mm\u001b[0m\u001b[0;34m,\u001b[0m \u001b[0mL\u001b[0m\u001b[0;34m,\u001b[0m \u001b[0mY\u001b[0m\u001b[0;34m)\u001b[0m\u001b[0;34m\u001b[0m\u001b[0;34m\u001b[0m\u001b[0m\n\u001b[1;32m     13\u001b[0m     \u001b[0mgradients\u001b[0m \u001b[0;34m=\u001b[0m \u001b[0mtape\u001b[0m\u001b[0;34m.\u001b[0m\u001b[0mgradient\u001b[0m\u001b[0;34m(\u001b[0m\u001b[0mloss_\u001b[0m\u001b[0;34m,\u001b[0m \u001b[0;34m[\u001b[0m\u001b[0mm\u001b[0m\u001b[0;34m,\u001b[0m \u001b[0mL\u001b[0m\u001b[0;34m]\u001b[0m\u001b[0;34m)\u001b[0m\u001b[0;34m\u001b[0m\u001b[0;34m\u001b[0m\u001b[0m\n\u001b[0;32m---> 14\u001b[0;31m     \u001b[0mopt\u001b[0m\u001b[0;34m.\u001b[0m\u001b[0mapply_gradients\u001b[0m\u001b[0;34m(\u001b[0m\u001b[0mzip\u001b[0m\u001b[0;34m(\u001b[0m\u001b[0mgradients\u001b[0m\u001b[0;34m,\u001b[0m \u001b[0;34m[\u001b[0m\u001b[0mm\u001b[0m\u001b[0;34m,\u001b[0m \u001b[0mL\u001b[0m\u001b[0;34m]\u001b[0m\u001b[0;34m)\u001b[0m\u001b[0;34m)\u001b[0m\u001b[0;34m\u001b[0m\u001b[0;34m\u001b[0m\u001b[0m\n\u001b[0m\u001b[1;32m     15\u001b[0m     \u001b[0;32mreturn\u001b[0m \u001b[0mloss_\u001b[0m\u001b[0;34m\u001b[0m\u001b[0;34m\u001b[0m\u001b[0m\n\u001b[1;32m     16\u001b[0m \u001b[0;34m\u001b[0m\u001b[0m\n",
      "\u001b[0;32m/opt/conda/lib/python3.8/site-packages/tensorflow/python/keras/optimizer_v2/optimizer_v2.py\u001b[0m in \u001b[0;36mapply_gradients\u001b[0;34m(self, grads_and_vars, name, experimental_aggregate_gradients)\u001b[0m\n\u001b[1;32m    623\u001b[0m             \"ParameterServerStrategy and CentralStorageStrategy\")\n\u001b[1;32m    624\u001b[0m \u001b[0;34m\u001b[0m\u001b[0m\n\u001b[0;32m--> 625\u001b[0;31m       \u001b[0mapply_state\u001b[0m \u001b[0;34m=\u001b[0m \u001b[0mself\u001b[0m\u001b[0;34m.\u001b[0m\u001b[0m_prepare\u001b[0m\u001b[0;34m(\u001b[0m\u001b[0mvar_list\u001b[0m\u001b[0;34m)\u001b[0m\u001b[0;34m\u001b[0m\u001b[0;34m\u001b[0m\u001b[0m\n\u001b[0m\u001b[1;32m    626\u001b[0m       \u001b[0;32mif\u001b[0m \u001b[0mexperimental_aggregate_gradients\u001b[0m\u001b[0;34m:\u001b[0m\u001b[0;34m\u001b[0m\u001b[0;34m\u001b[0m\u001b[0m\n\u001b[1;32m    627\u001b[0m         \u001b[0mgrads_and_vars\u001b[0m \u001b[0;34m=\u001b[0m \u001b[0mself\u001b[0m\u001b[0;34m.\u001b[0m\u001b[0m_transform_unaggregated_gradients\u001b[0m\u001b[0;34m(\u001b[0m\u001b[0mgrads_and_vars\u001b[0m\u001b[0;34m)\u001b[0m\u001b[0;34m\u001b[0m\u001b[0;34m\u001b[0m\u001b[0m\n",
      "\u001b[0;32m/opt/conda/lib/python3.8/site-packages/tensorflow/python/keras/optimizer_v2/optimizer_v2.py\u001b[0m in \u001b[0;36m_prepare\u001b[0;34m(self, var_list)\u001b[0m\n\u001b[1;32m    878\u001b[0m       \u001b[0mapply_state\u001b[0m\u001b[0;34m[\u001b[0m\u001b[0;34m(\u001b[0m\u001b[0mvar_device\u001b[0m\u001b[0;34m,\u001b[0m \u001b[0mvar_dtype\u001b[0m\u001b[0;34m)\u001b[0m\u001b[0;34m]\u001b[0m \u001b[0;34m=\u001b[0m \u001b[0;34m{\u001b[0m\u001b[0;34m}\u001b[0m\u001b[0;34m\u001b[0m\u001b[0;34m\u001b[0m\u001b[0m\n\u001b[1;32m    879\u001b[0m       \u001b[0;32mwith\u001b[0m \u001b[0mops\u001b[0m\u001b[0;34m.\u001b[0m\u001b[0mdevice\u001b[0m\u001b[0;34m(\u001b[0m\u001b[0mvar_device\u001b[0m\u001b[0;34m)\u001b[0m\u001b[0;34m:\u001b[0m\u001b[0;34m\u001b[0m\u001b[0;34m\u001b[0m\u001b[0m\n\u001b[0;32m--> 880\u001b[0;31m         \u001b[0mself\u001b[0m\u001b[0;34m.\u001b[0m\u001b[0m_prepare_local\u001b[0m\u001b[0;34m(\u001b[0m\u001b[0mvar_device\u001b[0m\u001b[0;34m,\u001b[0m \u001b[0mvar_dtype\u001b[0m\u001b[0;34m,\u001b[0m \u001b[0mapply_state\u001b[0m\u001b[0;34m)\u001b[0m\u001b[0;34m\u001b[0m\u001b[0;34m\u001b[0m\u001b[0m\n\u001b[0m\u001b[1;32m    881\u001b[0m \u001b[0;34m\u001b[0m\u001b[0m\n\u001b[1;32m    882\u001b[0m     \u001b[0;32mreturn\u001b[0m \u001b[0mapply_state\u001b[0m\u001b[0;34m\u001b[0m\u001b[0;34m\u001b[0m\u001b[0m\n",
      "\u001b[0;32m/opt/conda/lib/python3.8/site-packages/tensorflow/python/keras/optimizer_v2/adam.py\u001b[0m in \u001b[0;36m_prepare_local\u001b[0;34m(self, var_device, var_dtype, apply_state)\u001b[0m\n\u001b[1;32m    136\u001b[0m \u001b[0;34m\u001b[0m\u001b[0m\n\u001b[1;32m    137\u001b[0m     \u001b[0mlocal_step\u001b[0m \u001b[0;34m=\u001b[0m \u001b[0mmath_ops\u001b[0m\u001b[0;34m.\u001b[0m\u001b[0mcast\u001b[0m\u001b[0;34m(\u001b[0m\u001b[0mself\u001b[0m\u001b[0;34m.\u001b[0m\u001b[0miterations\u001b[0m \u001b[0;34m+\u001b[0m \u001b[0;36m1\u001b[0m\u001b[0;34m,\u001b[0m \u001b[0mvar_dtype\u001b[0m\u001b[0;34m)\u001b[0m\u001b[0;34m\u001b[0m\u001b[0;34m\u001b[0m\u001b[0m\n\u001b[0;32m--> 138\u001b[0;31m     \u001b[0mbeta_1_t\u001b[0m \u001b[0;34m=\u001b[0m \u001b[0marray_ops\u001b[0m\u001b[0;34m.\u001b[0m\u001b[0midentity\u001b[0m\u001b[0;34m(\u001b[0m\u001b[0mself\u001b[0m\u001b[0;34m.\u001b[0m\u001b[0m_get_hyper\u001b[0m\u001b[0;34m(\u001b[0m\u001b[0;34m'beta_1'\u001b[0m\u001b[0;34m,\u001b[0m \u001b[0mvar_dtype\u001b[0m\u001b[0;34m)\u001b[0m\u001b[0;34m)\u001b[0m\u001b[0;34m\u001b[0m\u001b[0;34m\u001b[0m\u001b[0m\n\u001b[0m\u001b[1;32m    139\u001b[0m     \u001b[0mbeta_2_t\u001b[0m \u001b[0;34m=\u001b[0m \u001b[0marray_ops\u001b[0m\u001b[0;34m.\u001b[0m\u001b[0midentity\u001b[0m\u001b[0;34m(\u001b[0m\u001b[0mself\u001b[0m\u001b[0;34m.\u001b[0m\u001b[0m_get_hyper\u001b[0m\u001b[0;34m(\u001b[0m\u001b[0;34m'beta_2'\u001b[0m\u001b[0;34m,\u001b[0m \u001b[0mvar_dtype\u001b[0m\u001b[0;34m)\u001b[0m\u001b[0;34m)\u001b[0m\u001b[0;34m\u001b[0m\u001b[0;34m\u001b[0m\u001b[0m\n\u001b[1;32m    140\u001b[0m     \u001b[0mbeta_1_power\u001b[0m \u001b[0;34m=\u001b[0m \u001b[0mmath_ops\u001b[0m\u001b[0;34m.\u001b[0m\u001b[0mpow\u001b[0m\u001b[0;34m(\u001b[0m\u001b[0mbeta_1_t\u001b[0m\u001b[0;34m,\u001b[0m \u001b[0mlocal_step\u001b[0m\u001b[0;34m)\u001b[0m\u001b[0;34m\u001b[0m\u001b[0;34m\u001b[0m\u001b[0m\n",
      "\u001b[0;32m/opt/conda/lib/python3.8/site-packages/tensorflow/python/keras/optimizer_v2/optimizer_v2.py\u001b[0m in \u001b[0;36m_get_hyper\u001b[0;34m(self, name, dtype)\u001b[0m\n\u001b[1;32m    759\u001b[0m       \u001b[0mvalue\u001b[0m \u001b[0;34m=\u001b[0m \u001b[0mvalue\u001b[0m\u001b[0;34m(\u001b[0m\u001b[0;34m)\u001b[0m\u001b[0;34m\u001b[0m\u001b[0;34m\u001b[0m\u001b[0m\n\u001b[1;32m    760\u001b[0m     \u001b[0;32mif\u001b[0m \u001b[0mdtype\u001b[0m\u001b[0;34m:\u001b[0m\u001b[0;34m\u001b[0m\u001b[0;34m\u001b[0m\u001b[0m\n\u001b[0;32m--> 761\u001b[0;31m       \u001b[0;32mreturn\u001b[0m \u001b[0mmath_ops\u001b[0m\u001b[0;34m.\u001b[0m\u001b[0mcast\u001b[0m\u001b[0;34m(\u001b[0m\u001b[0mvalue\u001b[0m\u001b[0;34m,\u001b[0m \u001b[0mdtype\u001b[0m\u001b[0;34m)\u001b[0m\u001b[0;34m\u001b[0m\u001b[0;34m\u001b[0m\u001b[0m\n\u001b[0m\u001b[1;32m    762\u001b[0m     \u001b[0;32melse\u001b[0m\u001b[0;34m:\u001b[0m\u001b[0;34m\u001b[0m\u001b[0;34m\u001b[0m\u001b[0m\n\u001b[1;32m    763\u001b[0m       \u001b[0;32mreturn\u001b[0m \u001b[0mvalue\u001b[0m\u001b[0;34m\u001b[0m\u001b[0;34m\u001b[0m\u001b[0m\n",
      "\u001b[0;32m/opt/conda/lib/python3.8/site-packages/tensorflow/python/util/dispatch.py\u001b[0m in \u001b[0;36mwrapper\u001b[0;34m(*args, **kwargs)\u001b[0m\n\u001b[1;32m    199\u001b[0m     \u001b[0;34m\"\"\"Call target, and fall back on dispatchers if there is a TypeError.\"\"\"\u001b[0m\u001b[0;34m\u001b[0m\u001b[0;34m\u001b[0m\u001b[0m\n\u001b[1;32m    200\u001b[0m     \u001b[0;32mtry\u001b[0m\u001b[0;34m:\u001b[0m\u001b[0;34m\u001b[0m\u001b[0;34m\u001b[0m\u001b[0m\n\u001b[0;32m--> 201\u001b[0;31m       \u001b[0;32mreturn\u001b[0m \u001b[0mtarget\u001b[0m\u001b[0;34m(\u001b[0m\u001b[0;34m*\u001b[0m\u001b[0margs\u001b[0m\u001b[0;34m,\u001b[0m \u001b[0;34m**\u001b[0m\u001b[0mkwargs\u001b[0m\u001b[0;34m)\u001b[0m\u001b[0;34m\u001b[0m\u001b[0;34m\u001b[0m\u001b[0m\n\u001b[0m\u001b[1;32m    202\u001b[0m     \u001b[0;32mexcept\u001b[0m \u001b[0;34m(\u001b[0m\u001b[0mTypeError\u001b[0m\u001b[0;34m,\u001b[0m \u001b[0mValueError\u001b[0m\u001b[0;34m)\u001b[0m\u001b[0;34m:\u001b[0m\u001b[0;34m\u001b[0m\u001b[0;34m\u001b[0m\u001b[0m\n\u001b[1;32m    203\u001b[0m       \u001b[0;31m# Note: convert_to_eager_tensor currently raises a ValueError, not a\u001b[0m\u001b[0;34m\u001b[0m\u001b[0;34m\u001b[0m\u001b[0;34m\u001b[0m\u001b[0m\n",
      "\u001b[0;32m/opt/conda/lib/python3.8/site-packages/tensorflow/python/ops/math_ops.py\u001b[0m in \u001b[0;36mcast\u001b[0;34m(x, dtype, name)\u001b[0m\n\u001b[1;32m    965\u001b[0m       \u001b[0;32mif\u001b[0m \u001b[0mx\u001b[0m\u001b[0;34m.\u001b[0m\u001b[0mdtype\u001b[0m\u001b[0;34m.\u001b[0m\u001b[0mbase_dtype\u001b[0m \u001b[0;34m!=\u001b[0m \u001b[0mbase_type\u001b[0m\u001b[0;34m:\u001b[0m\u001b[0;34m\u001b[0m\u001b[0;34m\u001b[0m\u001b[0m\n\u001b[1;32m    966\u001b[0m         \u001b[0mx\u001b[0m \u001b[0;34m=\u001b[0m \u001b[0mgen_math_ops\u001b[0m\u001b[0;34m.\u001b[0m\u001b[0mcast\u001b[0m\u001b[0;34m(\u001b[0m\u001b[0mx\u001b[0m\u001b[0;34m,\u001b[0m \u001b[0mbase_type\u001b[0m\u001b[0;34m,\u001b[0m \u001b[0mname\u001b[0m\u001b[0;34m=\u001b[0m\u001b[0mname\u001b[0m\u001b[0;34m)\u001b[0m\u001b[0;34m\u001b[0m\u001b[0;34m\u001b[0m\u001b[0m\n\u001b[0;32m--> 967\u001b[0;31m     \u001b[0;32mif\u001b[0m \u001b[0mx\u001b[0m\u001b[0;34m.\u001b[0m\u001b[0mdtype\u001b[0m\u001b[0;34m.\u001b[0m\u001b[0mis_complex\u001b[0m \u001b[0;32mand\u001b[0m \u001b[0mbase_type\u001b[0m\u001b[0;34m.\u001b[0m\u001b[0mis_floating\u001b[0m\u001b[0;34m:\u001b[0m\u001b[0;34m\u001b[0m\u001b[0;34m\u001b[0m\u001b[0m\n\u001b[0m\u001b[1;32m    968\u001b[0m       \u001b[0mlogging\u001b[0m\u001b[0;34m.\u001b[0m\u001b[0mwarn\u001b[0m\u001b[0;34m(\u001b[0m\u001b[0;34m\"Casting complex to real discards imaginary part.\"\u001b[0m\u001b[0;34m)\u001b[0m\u001b[0;34m\u001b[0m\u001b[0;34m\u001b[0m\u001b[0m\n\u001b[1;32m    969\u001b[0m     \u001b[0;32mreturn\u001b[0m \u001b[0mx\u001b[0m\u001b[0;34m\u001b[0m\u001b[0;34m\u001b[0m\u001b[0m\n",
      "\u001b[0;32m/opt/conda/lib/python3.8/site-packages/tensorflow/python/framework/ops.py\u001b[0m in \u001b[0;36mdtype\u001b[0;34m(self)\u001b[0m\n\u001b[1;32m   1039\u001b[0m       \u001b[0msix\u001b[0m\u001b[0;34m.\u001b[0m\u001b[0mraise_from\u001b[0m\u001b[0;34m(\u001b[0m\u001b[0mcore\u001b[0m\u001b[0;34m.\u001b[0m\u001b[0m_status_to_exception\u001b[0m\u001b[0;34m(\u001b[0m\u001b[0me\u001b[0m\u001b[0;34m.\u001b[0m\u001b[0mcode\u001b[0m\u001b[0;34m,\u001b[0m \u001b[0me\u001b[0m\u001b[0;34m.\u001b[0m\u001b[0mmessage\u001b[0m\u001b[0;34m)\u001b[0m\u001b[0;34m,\u001b[0m \u001b[0;32mNone\u001b[0m\u001b[0;34m)\u001b[0m  \u001b[0;31m# pylint: disable=protected-access\u001b[0m\u001b[0;34m\u001b[0m\u001b[0;34m\u001b[0m\u001b[0m\n\u001b[1;32m   1040\u001b[0m \u001b[0;34m\u001b[0m\u001b[0m\n\u001b[0;32m-> 1041\u001b[0;31m   \u001b[0;34m@\u001b[0m\u001b[0mproperty\u001b[0m\u001b[0;34m\u001b[0m\u001b[0;34m\u001b[0m\u001b[0m\n\u001b[0m\u001b[1;32m   1042\u001b[0m   \u001b[0;32mdef\u001b[0m \u001b[0mdtype\u001b[0m\u001b[0;34m(\u001b[0m\u001b[0mself\u001b[0m\u001b[0;34m)\u001b[0m\u001b[0;34m:\u001b[0m\u001b[0;34m\u001b[0m\u001b[0;34m\u001b[0m\u001b[0m\n\u001b[1;32m   1043\u001b[0m     \u001b[0;31m# Note: using the intern table directly here as this is\u001b[0m\u001b[0;34m\u001b[0m\u001b[0;34m\u001b[0m\u001b[0;34m\u001b[0m\u001b[0m\n",
      "\u001b[0;31mKeyboardInterrupt\u001b[0m: "
     ]
    }
   ],
   "source": [
    "# initial distribution parameters m_q, L_q\n",
    "m_q = tf.Variable(np.zeros((N, 1)), dtype=tf.float64)\n",
    "L_q = tf.Variable(np.eye(N), dtype=tf.float64)\n",
    "\n",
    "# Optimize the loss: a tensorflow routine is given\n",
    "loss = lambda m, L: - elbo(m_p, L_p, m, L, Y)\n",
    "\n",
    "# definition of a training step\n",
    "def train(opt, m, L):\n",
    "    with tf.GradientTape() as tape:\n",
    "        tape.watch([m, L])\n",
    "        loss_ = - elbo(m_p, L_p, m, L, Y)\n",
    "    gradients = tape.gradient(loss_, [m, L])\n",
    "    opt.apply_gradients(zip(gradients, [m, L]))\n",
    "    return loss_\n",
    "\n",
    "# you can change the optimizer or learning rate\n",
    "opt = tf.optimizers.Adam(learning_rate=.0001) \n",
    "\n",
    "# running the optimization\n",
    "loss_list=[]\n",
    "for t in range(5000):\n",
    "    loss_list.append(train(opt, m_q, L_q).numpy())\n",
    "    if t % 500 == 0:\n",
    "        print(t, loss(m_q, L_q))   \n"
   ]
  },
  {
   "cell_type": "markdown",
   "metadata": {
    "id": "emZZ_6Zc66-l"
   },
   "source": [
    "* Plot the evolution of the ELBO as a function function of iterations.\n",
    "\n",
    "* Plot the posterior process $p(f^*|x^*, {\\cal D})$.\n",
    "\n",
    "* Plot the predictive distribution $p(y^*=1|x^*)$.\n",
    "\n",
    "* Repeat the procedure for different values of $(\\sigma^2, l)$, can you see an improvement? Is the ELBO a good proxy for hyperparameter optimization in this example?\n"
   ]
  },
  {
   "cell_type": "code",
   "execution_count": null,
   "metadata": {
    "colab": {
     "base_uri": "https://localhost:8080/",
     "height": 595
    },
    "id": "RCekvfs166-l",
    "outputId": "022991b5-80ae-423f-acea-7549beb55e2d"
   },
   "outputs": [],
   "source": [
    "###############################################\n",
    "# ------- insert code here -------------------\n",
    "convs=L_q@tf.transpose(L_q)\n",
    "var=tf.linalg.diag_part(convs)\n",
    "pred_list=[]\n",
    "for i in range(N):\n",
    "    pred=phi(m_q[i]/tf.math.sqrt(1+var[i]))\n",
    "    pred_list.append(pred)\n",
    "\n",
    "plt.figure(figsize=(12,12))\n",
    "plt.subplot(2,2,1)\n",
    "plt.title('loss')\n",
    "plt.plot(loss_list)\n",
    "\n",
    "plt.subplot(2,2,2)\n",
    "plt.scatter(X[:,0],X[:,1],c=Y)\n",
    "plt.title('original data')\n",
    "plt.colorbar()\n",
    "\n",
    "plt.subplot(2,2,3)\n",
    "plt.scatter(X[:,0],X[:,1],c=tf.squeeze(m_q))\n",
    "plt.title('posterior')\n",
    "plt.colorbar()\n",
    "\n",
    "plt.subplot(2,2,4)\n",
    "plt.scatter(X[:,0],X[:,1],c=tf.squeeze(pred_list))\n",
    "plt.title('preditive')\n",
    "plt.colorbar()\n",
    "###############################################\n",
    "\n",
    "\n"
   ]
  },
  {
   "cell_type": "markdown",
   "metadata": {
    "id": "t3ZlPddLxMXT"
   },
   "source": [
    "### Task 1e: Posterior prediction for new data points\n",
    "\n",
    "Under the hood, the algorithm defines a posterior process for all values of the input space.\n",
    "\n",
    "For a new input $x^*$, the posterior prediction is given by \n",
    "\n",
    "$\n",
    "\\begin{align*}\n",
    "q(f(x^*)) &= \\int p(f(x^*)|{\\bf f})q({\\bf f})d{\\bf f}\\\\\n",
    " &= {\\cal N}(f(x^*)| K_{f^*{\\bf f} }K_{{\\bf ff}}^{-1} m_q,\n",
    " K_{f^*f^*} - K_{f^*{\\bf f}}K_{{\\bf ff}}^{-1}(K_{{\\bf ff}} - S)K_{{\\bf ff}}^{-1}K_{{\\bf f} f^*})\n",
    "\\end{align*}\n",
    "$"
   ]
  },
  {
   "cell_type": "code",
   "execution_count": null,
   "metadata": {
    "id": "nIrjqfJNxKDv"
   },
   "outputs": [],
   "source": [
    "def posterior_marginal_prediction(X_new, X, m_q, L_q):\n",
    "    \"\"\" compute the posterior marginal predictions q(f(x*))\n",
    "    independently for all inputs in X_new \n",
    "  \n",
    "    Note: You need to now use tensorflow functions\n",
    "\n",
    "    arguments:\n",
    "    X_new -- N_new x 2, matrix of new inputs\n",
    "    X     -- N x 2, matrix of training inputs\n",
    "    L_q   -- N x N, Cholesky factor of the covariances of q\n",
    "    m_q   -- N x 1, mean vector of q\n",
    "    returns: predictive marginal means and variances (both with size N_new x 1) \n",
    "    \"\"\"\n",
    "  \n",
    "\n",
    "    ###############################################\n",
    "    # ------- insert code here -------------------\n",
    "    S=L_q@tf.transpose(L_q)\n",
    "\n",
    "    K_ff=create_se_kernel(X,X,s**2,l)\n",
    "    K_pf=create_se_kernel(X_new,X,s**2,l)\n",
    "    K_fp=create_se_kernel(X,X_new,s**2,l)\n",
    "    K_pp=create_se_kernel(X_new,X_new,s**2,l)\n",
    "    K_ff_inv=tf.linalg.inv(K_ff)\n",
    "\n",
    "    return K_pf@K_ff_inv@m_q,K_pp-K_pf@K_ff_inv@(K_ff-S)@K_ff_inv@K_fp\n",
    "\n",
    "    ###############################################\n",
    "\n",
    "    \n",
    "    \n",
    "    "
   ]
  },
  {
   "cell_type": "markdown",
   "metadata": {
    "id": "sfGR_5yG64zo"
   },
   "source": [
    "Plotting the prediction"
   ]
  },
  {
   "cell_type": "code",
   "execution_count": null,
   "metadata": {
    "colab": {
     "base_uri": "https://localhost:8080/",
     "height": 306
    },
    "id": "4bXbpwLP3Zcv",
    "outputId": "a5446e44-ab6d-49b7-babf-d1df3b83faa9"
   },
   "outputs": [],
   "source": [
    "# create new input points on grid\n",
    "n_grid = 100\n",
    "x = np.linspace(X.min(), X.max(), n_grid)\n",
    "X1new, X2new = np.meshgrid(x, x)\n",
    "Xnew = np.hstack([\n",
    "  X1new.reshape(-1,1), X2new.reshape(-1,1)\n",
    "])  # size : n_grid * n_grid x 2\n",
    "\n",
    "###############################################\n",
    "# ------- insert code here -------------------\n",
    "\n",
    "post_pred_mean,post_pred_convs=posterior_marginal_prediction(Xnew,X,m_q,L_q)\n",
    "\n",
    "plt.scatter(Xnew[:,0],Xnew[:,1],c=tf.squeeze(post_pred_mean))\n",
    "plt.title('posterior preditive')\n",
    "###############################################\n",
    "  \n",
    "\n",
    "    "
   ]
  },
  {
   "cell_type": "markdown",
   "metadata": {
    "id": "CDp21NI566-m"
   },
   "source": [
    "### Advanced [for the curious, no extra points]\n",
    "* Repeat the procedure for the regression setting with Gaussian noise. You need to derive new variational expectations since the likelihood changes. Apply the resulting algorithm to the regression problem of the previous assignment.\n",
    "* For fixed hyperparameters, do the ELBO match the marginal likelihood $\\log p({\\bf y})$? If so why?"
   ]
  },
  {
   "cell_type": "code",
   "execution_count": null,
   "metadata": {
    "id": "tf6jYiwm66-n"
   },
   "outputs": [],
   "source": [
    "###############################################\n",
    "# ------- insert code here -------------------\n",
    "###############################################"
   ]
  },
  {
   "cell_type": "markdown",
   "metadata": {},
   "source": [
    "# Task 2: GPLVM's (worth 1 point)"
   ]
  },
  {
   "cell_type": "markdown",
   "metadata": {},
   "source": [
    "Latent variable models attempt to capture hidden structure in high dimensional\n",
    "data. Given a collection of\n",
    "high-dimensional observations (e.g., images), we can posit some low-dimensional\n",
    "latent structure. We assume that, conditional on the latent structure, the large\n",
    "number of outputs (pixels in the image) are independent of each other. Training\n",
    "in this model consists of\n",
    "   1. optimizing model parameters (kernel function parameters as well as, e.g.,\n",
    "   observation noise variance), and\n",
    "   2. finding, for each training observation (image), a corresponding point\n",
    "   location in the index set.\n",
    "All of the optimization can be done by maximizing the marginal log likelihood of\n",
    "the data.\n",
    "\n",
    "## Imports\n",
    "\n",
    "For these tasks you Tensorflow, gpflow and GPy libraries. "
   ]
  },
  {
   "cell_type": "code",
   "execution_count": 2,
   "metadata": {},
   "outputs": [
    {
     "name": "stdout",
     "output_type": "stream",
     "text": [
      "Collecting gpflow==2.1.4\n",
      "  Downloading gpflow-2.1.4-py3-none-any.whl (255 kB)\n",
      "\u001b[K     |████████████████████████████████| 255 kB 8.1 MB/s eta 0:00:01\n",
      "\u001b[?25hRequirement already satisfied: numpy in /opt/conda/lib/python3.8/site-packages (from gpflow==2.1.4) (1.19.5)\n",
      "Requirement already satisfied: dataclasses in /opt/conda/lib/python3.8/site-packages (from gpflow==2.1.4) (0.6)\n",
      "Requirement already satisfied: scipy in /opt/conda/lib/python3.8/site-packages (from gpflow==2.1.4) (1.5.3)\n",
      "Requirement already satisfied: tensorflow-probability>0.10.0 in /opt/conda/lib/python3.8/site-packages (from gpflow==2.1.4) (0.12.1)\n",
      "Requirement already satisfied: typing-extensions in /opt/conda/lib/python3.8/site-packages (from gpflow==2.1.4) (3.7.4.3)\n",
      "Requirement already satisfied: packaging in /opt/conda/lib/python3.8/site-packages (from gpflow==2.1.4) (20.8)\n",
      "Requirement already satisfied: tabulate in /opt/conda/lib/python3.8/site-packages (from gpflow==2.1.4) (0.8.7)\n",
      "Requirement already satisfied: setuptools>=41.0.0 in /opt/conda/lib/python3.8/site-packages (from gpflow==2.1.4) (49.6.0.post20201009)\n",
      "Requirement already satisfied: multipledispatch>=0.6 in /opt/conda/lib/python3.8/site-packages (from gpflow==2.1.4) (0.6.0)\n",
      "Collecting tensorflow==2.4.1\n",
      "  Downloading tensorflow-2.4.1-cp38-cp38-manylinux2010_x86_64.whl (394.4 MB)\n",
      "\u001b[K     |████████████████████████████████| 394.4 MB 23 kB/s s eta 0:00:01\n",
      "\u001b[?25hRequirement already satisfied: protobuf>=3.9.2 in /opt/conda/lib/python3.8/site-packages (from tensorflow==2.4.1) (3.14.0)\n",
      "Requirement already satisfied: gast==0.3.3 in /opt/conda/lib/python3.8/site-packages (from tensorflow==2.4.1) (0.3.3)\n",
      "Requirement already satisfied: wrapt~=1.12.1 in /opt/conda/lib/python3.8/site-packages (from tensorflow==2.4.1) (1.12.1)\n",
      "Requirement already satisfied: opt-einsum~=3.3.0 in /opt/conda/lib/python3.8/site-packages (from tensorflow==2.4.1) (3.3.0)\n",
      "Requirement already satisfied: wheel~=0.35 in /opt/conda/lib/python3.8/site-packages (from tensorflow==2.4.1) (0.36.2)\n",
      "Requirement already satisfied: tensorboard~=2.4 in /opt/conda/lib/python3.8/site-packages (from tensorflow==2.4.1) (2.4.0)\n",
      "Requirement already satisfied: keras-preprocessing~=1.1.2 in /opt/conda/lib/python3.8/site-packages (from tensorflow==2.4.1) (1.1.2)\n",
      "Requirement already satisfied: six~=1.15.0 in /opt/conda/lib/python3.8/site-packages (from tensorflow==2.4.1) (1.15.0)\n",
      "Requirement already satisfied: h5py~=2.10.0 in /opt/conda/lib/python3.8/site-packages (from tensorflow==2.4.1) (2.10.0)\n",
      "Requirement already satisfied: absl-py~=0.10 in /opt/conda/lib/python3.8/site-packages (from tensorflow==2.4.1) (0.11.0)\n",
      "Requirement already satisfied: google-pasta~=0.2 in /opt/conda/lib/python3.8/site-packages (from tensorflow==2.4.1) (0.2.0)\n",
      "Requirement already satisfied: astunparse~=1.6.3 in /opt/conda/lib/python3.8/site-packages (from tensorflow==2.4.1) (1.6.3)\n",
      "Requirement already satisfied: termcolor~=1.1.0 in /opt/conda/lib/python3.8/site-packages (from tensorflow==2.4.1) (1.1.0)\n",
      "Collecting flatbuffers~=1.12.0\n",
      "  Downloading flatbuffers-1.12-py2.py3-none-any.whl (15 kB)\n",
      "Collecting grpcio~=1.32.0\n",
      "  Downloading grpcio-1.32.0-cp38-cp38-manylinux2014_x86_64.whl (3.8 MB)\n",
      "\u001b[K     |████████████████████████████████| 3.8 MB 36.9 MB/s eta 0:00:01\n",
      "\u001b[?25hRequirement already satisfied: markdown>=2.6.8 in /opt/conda/lib/python3.8/site-packages (from tensorboard~=2.4->tensorflow==2.4.1) (3.3.3)\n",
      "Requirement already satisfied: google-auth-oauthlib<0.5,>=0.4.1 in /opt/conda/lib/python3.8/site-packages (from tensorboard~=2.4->tensorflow==2.4.1) (0.4.2)\n",
      "Requirement already satisfied: werkzeug>=0.11.15 in /opt/conda/lib/python3.8/site-packages (from tensorboard~=2.4->tensorflow==2.4.1) (1.0.1)\n",
      "Requirement already satisfied: tensorboard-plugin-wit>=1.6.0 in /opt/conda/lib/python3.8/site-packages (from tensorboard~=2.4->tensorflow==2.4.1) (1.7.0)\n",
      "Requirement already satisfied: google-auth<2,>=1.6.3 in /opt/conda/lib/python3.8/site-packages (from tensorboard~=2.4->tensorflow==2.4.1) (1.24.0)\n",
      "Requirement already satisfied: requests<3,>=2.21.0 in /opt/conda/lib/python3.8/site-packages (from tensorboard~=2.4->tensorflow==2.4.1) (2.25.1)\n",
      "Requirement already satisfied: cachetools<5.0,>=2.0.0 in /opt/conda/lib/python3.8/site-packages (from google-auth<2,>=1.6.3->tensorboard~=2.4->tensorflow==2.4.1) (4.2.0)\n",
      "Requirement already satisfied: pyasn1-modules>=0.2.1 in /opt/conda/lib/python3.8/site-packages (from google-auth<2,>=1.6.3->tensorboard~=2.4->tensorflow==2.4.1) (0.2.8)\n",
      "Requirement already satisfied: rsa<5,>=3.1.4 in /opt/conda/lib/python3.8/site-packages (from google-auth<2,>=1.6.3->tensorboard~=2.4->tensorflow==2.4.1) (4.6)\n",
      "Requirement already satisfied: requests-oauthlib>=0.7.0 in /opt/conda/lib/python3.8/site-packages (from google-auth-oauthlib<0.5,>=0.4.1->tensorboard~=2.4->tensorflow==2.4.1) (1.3.0)\n",
      "Requirement already satisfied: pyasn1<0.5.0,>=0.4.6 in /opt/conda/lib/python3.8/site-packages (from pyasn1-modules>=0.2.1->google-auth<2,>=1.6.3->tensorboard~=2.4->tensorflow==2.4.1) (0.4.8)\n",
      "Requirement already satisfied: urllib3<1.27,>=1.21.1 in /opt/conda/lib/python3.8/site-packages (from requests<3,>=2.21.0->tensorboard~=2.4->tensorflow==2.4.1) (1.26.2)\n",
      "Requirement already satisfied: certifi>=2017.4.17 in /opt/conda/lib/python3.8/site-packages (from requests<3,>=2.21.0->tensorboard~=2.4->tensorflow==2.4.1) (2020.12.5)\n",
      "Requirement already satisfied: idna<3,>=2.5 in /opt/conda/lib/python3.8/site-packages (from requests<3,>=2.21.0->tensorboard~=2.4->tensorflow==2.4.1) (2.10)\n",
      "Requirement already satisfied: chardet<5,>=3.0.2 in /opt/conda/lib/python3.8/site-packages (from requests<3,>=2.21.0->tensorboard~=2.4->tensorflow==2.4.1) (4.0.0)\n",
      "Requirement already satisfied: oauthlib>=3.0.0 in /opt/conda/lib/python3.8/site-packages (from requests-oauthlib>=0.7.0->google-auth-oauthlib<0.5,>=0.4.1->tensorboard~=2.4->tensorflow==2.4.1) (3.0.1)\n",
      "Collecting tensorflow-estimator<2.5.0,>=2.4.0\n",
      "  Downloading tensorflow_estimator-2.4.0-py2.py3-none-any.whl (462 kB)\n",
      "\u001b[K     |████████████████████████████████| 462 kB 43.1 MB/s eta 0:00:01\n",
      "\u001b[?25hRequirement already satisfied: cloudpickle>=1.3 in /opt/conda/lib/python3.8/site-packages (from tensorflow-probability>0.10.0->gpflow==2.1.4) (1.6.0)\n",
      "Requirement already satisfied: dm-tree in /opt/conda/lib/python3.8/site-packages (from tensorflow-probability>0.10.0->gpflow==2.1.4) (0.1.5)\n",
      "Requirement already satisfied: decorator in /opt/conda/lib/python3.8/site-packages (from tensorflow-probability>0.10.0->gpflow==2.1.4) (4.4.2)\n",
      "Collecting GPy\n",
      "  Downloading GPy-1.9.9.tar.gz (995 kB)\n",
      "\u001b[K     |████████████████████████████████| 995 kB 50.2 MB/s eta 0:00:01\n",
      "\u001b[?25hCollecting paramz>=0.9.0\n",
      "  Downloading paramz-0.9.5.tar.gz (71 kB)\n",
      "\u001b[K     |████████████████████████████████| 71 kB 19.8 MB/s eta 0:00:01\n",
      "\u001b[?25hRequirement already satisfied: pyparsing>=2.0.2 in /opt/conda/lib/python3.8/site-packages (from packaging->gpflow==2.1.4) (2.4.7)\n",
      "Building wheels for collected packages: GPy, paramz\n",
      "  Building wheel for GPy (setup.py) ... \u001b[?25ldone\n",
      "\u001b[?25h  Created wheel for GPy: filename=GPy-1.9.9-cp38-cp38-linux_x86_64.whl size=2366231 sha256=96d72b33bddd3bc9a29b93b6962025f4d325146d971fbf796a328f5cbb513107\n",
      "  Stored in directory: /home/xiaoh2/.cache/pip/wheels/6f/42/43/fd9655711b8f8517ffc104cce1b49c7e3ab7bce6a88bb2f0fb\n",
      "  Building wheel for paramz (setup.py) ... \u001b[?25ldone\n",
      "\u001b[?25h  Created wheel for paramz: filename=paramz-0.9.5-py3-none-any.whl size=102550 sha256=fd5fbc7d79981e9aa137f1cad1eb1b3d77f3d678b518720136b0853a88e492a2\n",
      "  Stored in directory: /home/xiaoh2/.cache/pip/wheels/66/78/6c/d98cb437834de5e29381786b4ba8a77ea68cca74653ab62713\n",
      "Successfully built GPy paramz\n",
      "Installing collected packages: grpcio, tensorflow-estimator, flatbuffers, tensorflow, paramz, GPy, gpflow\n",
      "  Attempting uninstall: grpcio\n",
      "    Found existing installation: grpcio 1.34.0\n",
      "    Uninstalling grpcio-1.34.0:\n",
      "      Successfully uninstalled grpcio-1.34.0\n",
      "  Attempting uninstall: tensorflow-estimator\n",
      "    Found existing installation: tensorflow-estimator 2.3.0\n",
      "    Uninstalling tensorflow-estimator-2.3.0:\n",
      "      Successfully uninstalled tensorflow-estimator-2.3.0\n",
      "  Attempting uninstall: tensorflow\n",
      "    Found existing installation: tensorflow 2.3.2\n",
      "    Uninstalling tensorflow-2.3.2:\n",
      "      Successfully uninstalled tensorflow-2.3.2\n",
      "  Attempting uninstall: gpflow\n",
      "    Found existing installation: gpflow 2.0.0rc1\n",
      "    Uninstalling gpflow-2.0.0rc1:\n",
      "      Successfully uninstalled gpflow-2.0.0rc1\n",
      "Successfully installed GPy-1.9.9 flatbuffers-1.12 gpflow-2.1.4 grpcio-1.32.0 paramz-0.9.5 tensorflow-2.4.1 tensorflow-estimator-2.4.0\n",
      "Note: you may need to restart the kernel to use updated packages.\n"
     ]
    }
   ],
   "source": [
    "pip install tensorflow==2.4.1 gpflow==2.1.4 GPy"
   ]
  },
  {
   "cell_type": "code",
   "execution_count": 1,
   "metadata": {},
   "outputs": [
    {
     "name": "stdout",
     "output_type": "stream",
     "text": [
      "Populating the interactive namespace from numpy and matplotlib\n"
     ]
    }
   ],
   "source": [
    "import numpy as np\n",
    "np.random.seed(1)  # for reproducibility\n",
    "import matplotlib.pyplot as plt\n",
    "\n",
    "import tensorflow as tf\n",
    "import gpflow\n",
    "from gpflow.utilities import ops, print_summary\n",
    "from gpflow.config import set_default_float, default_float, set_default_summary_fmt\n",
    "from gpflow.ci_utils import ci_niter\n",
    "\n",
    "from sklearn.decomposition import PCA\n",
    "\n",
    "%pylab inline\n",
    "%matplotlib inline\n",
    "\n",
    "set_default_float(np.float64)\n",
    "set_default_summary_fmt(\"notebook\")"
   ]
  },
  {
   "cell_type": "code",
   "execution_count": 2,
   "metadata": {},
   "outputs": [],
   "source": [
    "def load_MNIST(N=500):\n",
    "    import random\n",
    "\n",
    "    (y_train, labels_train), (_, _) = tf.keras.datasets.mnist.load_data()\n",
    "\n",
    "    # Shuffle data and subsample\n",
    "    new_idx = np.arange(y_train.shape[0])\n",
    "    np.random.shuffle(new_idx)\n",
    "    y_train, labels_train = y_train[new_idx, :, :], labels_train[new_idx]\n",
    "    sub_y_train = y_train[:N, ...].astype(np.float64) / 256.\n",
    "    labels = labels_train[:N]\n",
    "    y = sub_y_train.reshape(N, -1)\n",
    "\n",
    "    def view_MNIST():\n",
    "        # Lets look at the sub sampled data\n",
    "        rand_idx = np.random.randint(0, N-1)\n",
    "        plt.imshow(y[rand_idx, :].reshape((28,28)), interpolation='none', cmap='Greys')\n",
    "        plt.title(f'Random sample with label {labels[rand_idx]}')\n",
    "        plt.show()\n",
    "\n",
    "    view_MNIST()\n",
    "\n",
    "    print(\"Number of points: {} and Number of dimensions: {}\".format(y.shape[0], y.shape[1]))\n",
    "    return y, labels\n",
    "\n",
    "def load_three_phase_oil():\n",
    "    data = np.load(\"./data/three_phase_oil_flow.npz\")\n",
    "    y =data[\"Y\"]\n",
    "    labels = data[\"labels\"]\n",
    "    \n",
    "    print(\"Number of points: {} and Number of dimensions: {}\".format(y.shape[0], y.shape[1]))\n",
    "    return y, labels\n",
    "\n",
    "def load_swiss_roll(N=500):\n",
    "    from sklearn import datasets\n",
    "    y, color = datasets.make_swiss_roll(n_samples=N)\n",
    "    \n",
    "    print(\"Number of points: {} and Number of dimensions: {}\".format(y.shape[0], y.shape[1]))\n",
    "    return y, color\n",
    "\n",
    "def load_decampos_digits():\n",
    "    import GPy\n",
    "    which = [0,1,2,6,7,9] # which digits to work on\n",
    "    data = GPy.util.datasets.decampos_digits(which_digits=which)\n",
    "    y = data['Y']\n",
    "    labels = data['str_lbls'].ravel()\n",
    "    \n",
    "    print(\"Number of points: {} and Number of dimensions: {}\".format(y.shape[0], y.shape[1]))\n",
    "    return y, labels\n",
    "\n"
   ]
  },
  {
   "cell_type": "markdown",
   "metadata": {},
   "source": [
    "## (B)GPLVM model setup"
   ]
  },
  {
   "cell_type": "code",
   "execution_count": 4,
   "metadata": {},
   "outputs": [],
   "source": [
    "# Shared model parameter set up\n",
    "#latent_dim = 2                            # number of latent dimensions\n",
    "#n_data_points = y.shape[0]                # number of data points\n",
    "#n_data_dims = y.shape[1]                  # number of data dimensions\n",
    "\n",
    "def create_GPLVM(kernel):\n",
    "    \n",
    "    X_init = ops.pca_reduce(y, latent_dim)              # Initialise latent\n",
    "    \n",
    "    # alternative initialisations...\n",
    "    # X_init+= np.random.randn(X_init.shape)\n",
    "    X_parameter = gpflow.base.Parameter(X_init)\n",
    "    Y_tensor = gpflow.models.util.data_input_to_tensor(y)\n",
    "\n",
    "    gplvm = gpflow.models.gpr.GPR((X_parameter, Y_tensor), kernel=kernel)\n",
    "    gplvm.likelihood.variance.assign(0.01)\n",
    "    \n",
    "    return gplvm\n",
    "\n",
    "def create_GPLVM_wrapped(kernel):\n",
    "    # Initialise latent\n",
    "    X_mean_init = ops.pca_reduce(y, latent_dim)\n",
    "    \n",
    "    gplvm = gpflow.models.GPLVM(\n",
    "        y,\n",
    "        latent_dim = latent_dim,\n",
    "        X_data_mean = X_mean_init,\n",
    "        kernel=kernel,\n",
    "    )\n",
    "\n",
    "    gplvm.likelihood.variance.assign(0.01)\n",
    "\n",
    "    # Helper function\n",
    "    #def get_latent(model):\n",
    "    #    return \n",
    "    \n",
    "    return gplvm#, get_latent\n",
    "\n",
    "def create_BGPLVM(kernel, num_inducing=25):\n",
    "    # Initialise latent\n",
    "    X_mean_init = ops.pca_reduce(y, latent_dim)\n",
    "    \n",
    "    # Initial inducing points\n",
    "    inducing_variable = tf.convert_to_tensor(\n",
    "        np.random.permutation(X_mean_init.numpy())[:num_inducing], dtype=default_float()\n",
    "    )\n",
    "    # Initialise latent variance\n",
    "    X_var_init = tf.ones((y.shape[0], latent_dim), dtype=default_float())\n",
    "\n",
    "\n",
    "    gplvm = gpflow.models.BayesianGPLVM(\n",
    "        y,\n",
    "        X_data_mean=X_mean_init,\n",
    "        X_data_var=X_var_init,\n",
    "        kernel=kernel,\n",
    "        inducing_variable=inducing_variable,\n",
    "    )\n",
    "\n",
    "    gplvm.likelihood.variance.assign(0.01)\n",
    "    \n",
    "    return gplvm\n",
    "\n",
    "get_latent_mean = lambda model: model.X_data_mean.numpy()\n",
    "get_latent = lambda model: model.data[0].numpy()\n"
   ]
  },
  {
   "cell_type": "markdown",
   "metadata": {},
   "source": [
    "## GPLVM and comparison to PCA"
   ]
  },
  {
   "cell_type": "code",
   "execution_count": 5,
   "metadata": {},
   "outputs": [
    {
     "name": "stdout",
     "output_type": "stream",
     "text": [
      "warning in stationary: failed to import cython module: falling back to numpy\n",
      "warning in choleskies: failed to import cython module: falling back to numpy\n",
      "Acquiring resource: decampos_characters\n",
      "\n",
      "Details of data: \n",
      "Examples of hand written digits taken from the de Campos et al paper on Character Recognition in Natural Images.\n",
      "\n",
      "Please cite:\n",
      "T. de Campos, B. R. Babu, and M. Varma. Character recognition in natural images. VISAPP 2009.\n",
      "\n",
      "After downloading the data will take up 2031872 bytes of space.\n",
      "\n",
      "Data will be stored in /home/xiaoh2/tmp/GPy-datasets/decampos_characters.\n",
      "\n",
      "Do you wish to proceed with the download? [yes/no]\n"
     ]
    },
    {
     "name": "stdin",
     "output_type": "stream",
     "text": [
      " yes\n"
     ]
    },
    {
     "name": "stdout",
     "output_type": "stream",
     "text": [
      "characters.npy\n",
      "Downloading  http://staffwww.dcs.shef.ac.uk/people/N.Lawrence/dataset_mirror/decampos_digits/characters.npy -> /home/xiaoh2/tmp/GPy-datasets/decampos_characters/characters.npy\n",
      "[==============================]   5.586/5.586MB                                                                                                                                                                                                                                                                                                                                                                                                                                                                                                                                                                                                                                                                                                                                                                                                                                                                                                                                                                                                                                                                                                                                                                                                                                                                                                                                                                                                                                                                                                                                                                                                                                                                                                                                                                                                                                                                                                                                                                                                                                                                                                                                                                                                                                                                                                                                                                                                                                                                                                                                                                                                                                                                                                                                                                                                                                                                                                                                                                                                                                                                                                                                                                                                                                                                                                                                                                                                                                                                                                                                                                                                                                                                                                                                                                                                                                                                                                                                                                                                                                                                                                                                                                                                                                                                                                                                                                                                                                                                                                                                                                                                                                                                                                                                                                                                                                                                                                                                                                                                                                                                                                                                                                                                                                                                                                                                                                                                                                                                                                                                                                                                                                                                                                                                                                                                                                                                                                                                                                                                                                                                                                                                                                                                                                                                                                                                                                                                                                                                                                                                                                                                                                                                                                                                                                                                                                                                                                                                                                                                                                                                                                                                                                                                                                                                                                                                                                                                                                                                                                                                                                                                                                                                                                                                                                                                                                                                                                                                                                                                                                                                                                                                                                                                                                                                                                                                                                                                                                                                                                                                                                                                                                                                                                                                                                                                                                                                                                                                                                                                                                                                                                                                                                                                                                                                                                                                                                                                                                                                                                                                                                                                                                                                                                                                                                                                                                                                                                                                                                                                                                                                                                                                                                                                                                                                                                                                                                                                                                                                                                                                                                                                                                                                                                                                                                                                                                                                                                                                                                                                                                                                                                                                                                                                                                                                                                                                                                                                                                                                                                                                                                                                                                                                                                                                                                                                                                                                                                                                                                                                                                                                                                                                                                                                                                                                                                                                                                                                                                                                                                                                                                                                                                                                                                                                                                                                                                                                                                                                                                                                                                                                                                                                                                                                                                                                                                                                                                                                                                                                                                                                                                                                                                                                                                                                                                                                                                                                                                                                                                                                                                                                                                                                                                                                                                                                                                                                                                                                                                                                                                                                                                                                                                                                                                                                                                                                                                                                                                                                                                                                                                                                                                                                                                                                                                                                                                                                                                                                                                                                                                                                                                                                                                                                                                                                                                                                                                                                                                                                                                                                                                                                                                                                                                                                                                                                                                                                                                                                                                                                                                                                                                                                                                                                                                                                                                                                                                                                                                                                                                                                                                                                                                                                                                                                                                                                                                                                                                                                                                                                                                                                                                                                                                                                                                                                                                                                                                                                                                                                                                                                                                                                                                                                                                                                                                                                                                                                                                                                                                                                                                                                                                                                                                                                                                                                                                                                                                                                                                                                                                                                                                                                                                                                                                                                                                                                                                                                                                                                                                                                                                                                                                                                                                                                                                                                                                                                                                                                                                                                                                                                                                                                                                                                                                                                                                                                                                                                                                                                                                                                                                                                                                                                                                                                                                                                                                                                                                                                                                                                                                                                                                                                                                                                                                                                                                                                                                                                                                                                                                                                                                                                                                                                                                                                                                                                                                                                                                                                                                                                                                                                                                                                                                                                                                                                                                                                                                                                                                                                                                                                                                                                                                                                                                                                                                                                                                                                                                                                                                                                                                                                                                                                                                                                                                                                                                                                                                                                                                                                                                                                                                                                                                                                                                                                                                                                                                                                                                                                                                                                                                                                                                                                                                                                                                                                                                                                                                                                                                                                                                                                                                                                                                                                                                                                                                                                                                                                                                                                                                                                                                                                                                                                                                                                                                                                                                                                                                                                                                                                                                                                                                                                                                                                                                                                                                                                                                                                                                                                                                                                                                                                                                                                                                                                                                                                                                                                                                                                                                                                                                                                                                                                                                                                                                                                                                                                                                                                                                                                                                                                                                                                                                                                                                                                                                                                                                                                                                                                                                                                                                                                                                                                                                                                                                                                                                                                                                                                                                                                                                                                                                                                                                                                                                                                                                                                                                                                                                                                                                                                                                                                                                                                                                                                                                                                                                                                                                                                                                                                                                                                                                                                                                                                                                                                                                                                                                                                                                                                                                                                                                                                                                                                                                                                                                                                                                                                                                                                                                                                                                                                                                                                                                                                                                                                                                                                                                                                                                                                                                                                                                                                                                                                                                                                                                                                                                                                                                                                                                                                                                                                                                                                                                                                                                                                                                                                                                                                                                                                                                                                                                                                                                                                                                                                                                                                                                                                                                                                                                                                                                                                                                                                                                                                                                                                                                                                                                                                                                                                                                                                                                                                                                                                                                                                                                                                                                                                                                                                                                                                                                                                                                                                                                                                                                                                                                                                                                                                                                                                                                                                                                                                                                                                                                                                                                                                                                                                                                                                                                                                                                                                                                                                                                                                                                                                                                                                                                                                                                                                                                                                                                                                                                                                                                                                                                                                                                                                                                                                                                                                                                                                                                                                                                                                                                                                                                                                                                                                                                                                                                                                                                                                                                                                                                                                                                                                                                                                                                                                \n",
      "digits.npy\n",
      "Downloading  http://staffwww.dcs.shef.ac.uk/people/N.Lawrence/dataset_mirror/decampos_digits/digits.npy -> /home/xiaoh2/tmp/GPy-datasets/decampos_characters/digits.npy\n",
      "[==============================]   1.074/1.074MB                                                                                                                                                                                                                                                                                                                                                                                                                                                                                                                                                                                                                                                                                                                                                                                                                                                                                                                                                                                                                                                                                                                                                                                                                                                                                                                                                                                                                                                                                                                                                                                                                                                                                                                                                                                                                                                                                                                                                                                                                                                                                                                                                                                                                                                                                                                                                                                                                                                                                                                                                                                                                                                                                                                                                                                                                                                                                                                                                                                                                                                                                                                                                                                                                                                                                                                                                                                                                                                                                                                                                                                                                                                                                                                                                                                                                                                                                                                                                                                                                                                                                                                                                                                                                                                                                                                                                                                                                                                                                                                                                                                                                                                                                                                                                                                                                                                                                                                                                                                                                                                                                                                                                                                                                                                                                                                                                                                                                                                                                                                                                                                                                                                                                                                                                                                                                                                                                                                                                                                                                                                                                                                                                                                                                                                                                                                                                                                                                                                                                                                                                                                                                                                                                                                                                                                                                                                                                                \n",
      "Number of points: 330 and Number of dimensions: 256\n"
     ]
    },
    {
     "data": {
      "image/png": "[encoded data removed]",
      "text/plain": [
       "<Figure size 720x345.6 with 2 Axes>"
      ]
     },
     "metadata": {
      "needs_background": "light"
     },
     "output_type": "display_data"
    },
    {
     "data": {
      "text/html": [
       "<table>\n",
       "<thead>\n",
       "<tr><th>name                   </th><th>class    </th><th>transform       </th><th>prior  </th><th>trainable  </th><th>shape   </th><th>dtype  </th><th>value                                             </th></tr>\n",
       "</thead>\n",
       "<tbody>\n",
       "<tr><td>GPR.kernel.variance    </td><td>Parameter</td><td>Softplus        </td><td>       </td><td>True       </td><td>(4,)    </td><td>float64</td><td>[4.04457620e-05, 3.07968540e-04, 5.90229690e-04...</td></tr>\n",
       "<tr><td>GPR.likelihood.variance</td><td>Parameter</td><td>Softplus + Shift</td><td>       </td><td>True       </td><td>()      </td><td>float64</td><td>0.1212632374962167                                </td></tr>\n",
       "<tr><td>GPR.data[0]            </td><td>Parameter</td><td>Identity        </td><td>       </td><td>True       </td><td>(330, 4)</td><td>float64</td><td>[[2.84041636, 12.00960237, 26.23789191...         </td></tr>\n",
       "</tbody>\n",
       "</table>"
      ],
      "text/plain": [
       "<IPython.core.display.HTML object>"
      ]
     },
     "metadata": {},
     "output_type": "display_data"
    },
    {
     "data": {
      "image/png": "[encoded data removed]",
      "text/plain": [
       "<Figure size 720x345.6 with 2 Axes>"
      ]
     },
     "metadata": {
      "needs_background": "light"
     },
     "output_type": "display_data"
    }
   ],
   "source": [
    "y, labels = load_decampos_digits()\n",
    "\n",
    "# PCA\n",
    "pca_latent = 12\n",
    "pca = PCA(n_components=pca_latent)\n",
    "X_pca = pca.fit_transform(y-y.mean())\n",
    "f, ax = plt.subplots(1, 2, figsize=(10, 4.8))\n",
    "ax[0].set_title('First two principal components')\n",
    "for i in np.unique(labels):\n",
    "    ax[0].scatter(X_pca[labels == i, 0], X_pca[labels == i, 1], label=i)\n",
    "ax[1].bar(np.linspace(0, pca_latent, pca_latent), pca.explained_variance_)\n",
    "ax[1].set_title('Variance explained');\n",
    "plt.show()\n",
    "\n",
    "# GPLVM with linear kernel\n",
    "latent_dim = 4\n",
    "lengthscales = tf.convert_to_tensor([1.] * latent_dim, dtype=default_float())\n",
    "kernel = gpflow.kernels.Linear(variance=lengthscales)  \n",
    "gplvm = create_GPLVM(kernel)\n",
    "opt = gpflow.optimizers.Scipy()                       \n",
    "maxiter = ci_niter(10000)\n",
    "_ = opt.minimize(\n",
    "    gplvm.training_loss,\n",
    "    method=\"BFGS\",\n",
    "    variables=gplvm.trainable_variables,\n",
    "    options=dict(maxiter=maxiter),\n",
    ")     \n",
    "print_summary(gplvm)\n",
    "order = gplvm.kernel.variance.numpy().argsort()\n",
    "f, ax = plt.subplots(1, 2, figsize=(10, 4.8))\n",
    "X_gplvm_linear = gplvm.data[0].numpy()[:, order]\n",
    "for i in np.unique(labels):\n",
    "    ax[0].scatter(X_gplvm_linear[labels == i, 0], X_gplvm_linear[labels == i, 1], label=i)\n",
    "#ax[0].scatter(X_gplvm_linear[:, 0], X_gplvm_linear[:, 1], c=labels)\n",
    "ax[1].bar(np.linspace(0, latent_dim, latent_dim), 1/gplvm.kernel.variance.numpy()[order])\n",
    "ax[1].set_title('Variance explained');\n"
   ]
  },
  {
   "cell_type": "markdown",
   "metadata": {},
   "source": [
    "## Task 2a\n",
    "\n",
    "How does your linear solution differ between PCA and GPLVM with a linear kernel? Look at the plots and also try and consider how the linear ARD parameters compare to the eigenvalues of the principal components.\n",
    "\n",
    "\n",
    "__Solution__\n",
    "\n",
    "From the scatter plots on the left, if we compare them in a rotated version, they are almost the same thing. On the right, it basically tells us how much variance the components explain. Obviously, the GPLVM works better because it used fewer components but captured most variance in the data. The sixth and later components in PCA method share similar variance that account for a big variance in data, which is bad in feature reduction. We always hope use fewer components to caputer variance as many as possible. Therefore, I would say GPLVM performs better than PCA in this data.\n"
   ]
  },
  {
   "cell_type": "markdown",
   "metadata": {},
   "source": [
    "## Task 2b\n",
    "\n",
    "Change the initialisation of the latent variables X_init inside the GPLVM model builder function. How this does change the results?\n",
    "\n",
    "Hint: Try random noise, or a subset of the dimensions.\n",
    "\n",
    "__Solution__\n",
    "\n",
    "Adding random noise and reduction of dimensions degrade the performance. The reason is quite straight-forward that we reduce the information entropy(hide some information in two different ways)."
   ]
  },
  {
   "cell_type": "markdown",
   "metadata": {},
   "source": [
    "## Task 2c\n",
    "\n",
    "The next step is to use a non-linear mapping between latent variables  __$X$__  and features  __$Y$__  by selecting the exponentiated quadratic covariance function. Run the code below.\n",
    "\n",
    "How does choosing a non-linear kernel affect the results? Are there digits that the GPLVM with an exponentiated quadratic covariance can separate, which PCA is not able to?\n",
    "\n",
    "__Solution__\n",
    "\n",
    "Using a non-linear kernel dramatically improves the performance. The first two components account for more variance compared to the former two methods. As we can see in the left plot, the digit 0 has been well separated since a clear gap exists against other clusters."
   ]
  },
  {
   "cell_type": "code",
   "execution_count": 15,
   "metadata": {},
   "outputs": [
    {
     "data": {
      "text/html": [
       "<table>\n",
       "<thead>\n",
       "<tr><th>name                   </th><th>class    </th><th>transform       </th><th>prior  </th><th>trainable  </th><th>shape   </th><th>dtype  </th><th>value                                     </th></tr>\n",
       "</thead>\n",
       "<tbody>\n",
       "<tr><td>GPR.kernel.variance    </td><td>Parameter</td><td>Softplus        </td><td>       </td><td>True       </td><td>()      </td><td>float64</td><td>0.3302229914640213                        </td></tr>\n",
       "<tr><td>GPR.kernel.lengthscales</td><td>Parameter</td><td>Softplus        </td><td>       </td><td>True       </td><td>(4,)    </td><td>float64</td><td>[0.48947352, 0.54172518, 6.20407059...    </td></tr>\n",
       "<tr><td>GPR.likelihood.variance</td><td>Parameter</td><td>Softplus + Shift</td><td>       </td><td>True       </td><td>()      </td><td>float64</td><td>0.0408216131168088                        </td></tr>\n",
       "<tr><td>GPR.data[0]            </td><td>Parameter</td><td>Identity        </td><td>       </td><td>True       </td><td>(330, 4)</td><td>float64</td><td>[[-0.41799089, -0.70920039, -2.45240664...</td></tr>\n",
       "</tbody>\n",
       "</table>"
      ],
      "text/plain": [
       "<IPython.core.display.HTML object>"
      ]
     },
     "metadata": {},
     "output_type": "display_data"
    },
    {
     "data": {
      "text/plain": [
       "<BarContainer object of 4 artists>"
      ]
     },
     "execution_count": 15,
     "metadata": {},
     "output_type": "execute_result"
    },
    {
     "data": {
      "image/png": "[encoded data removed]",
      "text/plain": [
       "<Figure size 720x345.6 with 2 Axes>"
      ]
     },
     "metadata": {
      "needs_background": "light"
     },
     "output_type": "display_data"
    }
   ],
   "source": [
    "lengthscales = tf.convert_to_tensor([1.] * latent_dim, dtype=default_float())\n",
    "kernel = gpflow.kernels.RBF(lengthscales=lengthscales)\n",
    "gplvm = create_GPLVM(kernel)\n",
    "\n",
    "opt = gpflow.optimizers.Scipy()                       \n",
    "maxiter = ci_niter(1000)\n",
    "_ = opt.minimize(\n",
    "    gplvm.training_loss,\n",
    "    method=\"BFGS\",\n",
    "    variables=gplvm.trainable_variables,\n",
    "    options=dict(maxiter=maxiter),\n",
    ")     \n",
    "print_summary(gplvm)\n",
    "\n",
    "order = (gplvm.kernel.lengthscales.numpy()).argsort()\n",
    "f, ax = plt.subplots(1, 2, figsize=(10, 4.8))\n",
    "X_gplvm_rbf = gplvm.data[0].numpy()[:, order]\n",
    "for i in np.unique(labels):\n",
    "    ax[0].scatter(X_gplvm_rbf[labels == i, 0], X_gplvm_rbf[labels == i, 1], label=i)\n",
    "ax[0].legend()\n",
    "ax[1].bar(np.linspace(0, latent_dim, latent_dim), 1/gplvm.kernel.lengthscales.numpy()[order])\n"
   ]
  },
  {
   "cell_type": "markdown",
   "metadata": {},
   "source": [
    "## Bayesian GPLVM\n",
    "\n",
    "GPLVM needs not make anyassumptions on the prior of latent variables. However, lack of such assumption makes the model inferred by just maximizingthe log marginal likelihood prone to overfitting. To tackle this problem, one of effective approaches is to impose a specific prior onto the latent variables for a posterior estimation. Thus, we can introduce various constraints into the prior for the estimation the latent variables in different tasks. Specifically, we assume that $p(X)$ denotes the imposed prior. By using the Bayesian theorem, we can formulate the posterior probability of the latent variables X as $p(X|Y,\\theta) \\propto p(Y|X,\\theta)p(X)$ \n",
    "\n"
   ]
  },
  {
   "cell_type": "code",
   "execution_count": null,
   "metadata": {},
   "outputs": [],
   "source": [
    "lengthscales = tf.convert_to_tensor([1.] * latent_dim, dtype=default_float())\n",
    "kernel = gpflow.kernels.RBF(lengthscales=lengthscales)\n",
    "bgplvm = create_BGPLVM(kernel, num_inducing=20)\n",
    "\n",
    "# This will take minutes to run.\n",
    "# You can interrupt the kernel\n",
    "opt = gpflow.optimizers.Scipy()                       \n",
    "maxiter = ci_niter(1000)\n",
    "_ = opt.minimize(\n",
    "    bgplvm.training_loss,\n",
    "    method=\"BFGS\",\n",
    "    variables=bgplvm.trainable_variables,\n",
    "    options=dict(maxiter=maxiter),\n",
    ")     \n",
    "print_summary(bgplvm)"
   ]
  },
  {
   "cell_type": "code",
   "execution_count": 7,
   "metadata": {},
   "outputs": [
    {
     "data": {
      "image/png": "[encoded data removed]",
      "text/plain": [
       "<Figure size 720x345.6 with 2 Axes>"
      ]
     },
     "metadata": {
      "needs_background": "light"
     },
     "output_type": "display_data"
    }
   ],
   "source": [
    "order = (bgplvm.kernel.lengthscales.numpy()).argsort()\n",
    "f, ax = plt.subplots(1, 2, figsize=(10, 4.8))\n",
    "X_bgplvm_rbf = bgplvm.X_data_mean.numpy()[:, order]\n",
    "for i in np.unique(labels):\n",
    "    ax[0].scatter(X_bgplvm_rbf[labels == i, 0], X_bgplvm_rbf[labels == i, 1], label=i)\n",
    "ax[0].legend()\n",
    "ax[1].bar(np.linspace(0, latent_dim, latent_dim), 1/bgplvm.kernel.lengthscales.numpy()[order]);\n"
   ]
  },
  {
   "cell_type": "markdown",
   "metadata": {},
   "source": [
    "## Task 2d \n",
    "\n",
    "* How does the Bayesian GP-LVM compare with the GPLVM model?  \n",
    "* How has the prior on $X$ affected the results?\n",
    "* Are there any classes that still overlap? Why?\n",
    "\n",
    "__Solution__\n",
    "\n",
    "* The data separation looks even better. The digits '6','7','0' are well-separated.\n",
    "* \n",
    "* Yes"
   ]
  },
  {
   "cell_type": "code",
   "execution_count": null,
   "metadata": {},
   "outputs": [],
   "source": []
  }
 ],
 "metadata": {
  "colab": {
   "collapsed_sections": [],
   "name": "lab3.ipynb",
   "provenance": [],
   "toc_visible": true
  },
  "kernelspec": {
   "display_name": "Python 3",
   "language": "python",
   "name": "python3"
  },
  "language_info": {
   "codemirror_mode": {
    "name": "ipython",
    "version": 3
   },
   "file_extension": ".py",
   "mimetype": "text/x-python",
   "name": "python",
   "nbconvert_exporter": "python",
   "pygments_lexer": "ipython3",
   "version": "3.8.6"
  },
  "varInspector": {
   "cols": {
    "lenName": 16,
    "lenType": 16,
    "lenVar": 40
   },
   "kernels_config": {
    "python": {
     "delete_cmd_postfix": "",
     "delete_cmd_prefix": "del ",
     "library": "var_list.py",
     "varRefreshCmd": "print(var_dic_list())"
    },
    "r": {
     "delete_cmd_postfix": ") ",
     "delete_cmd_prefix": "rm(",
     "library": "var_list.r",
     "varRefreshCmd": "cat(var_dic_list()) "
    }
   },
   "types_to_exclude": [
    "module",
    "function",
    "builtin_function_or_method",
    "instance",
    "_Feature"
   ],
   "window_display": false
  }
 },
 "nbformat": 4,
 "nbformat_minor": 4
}
